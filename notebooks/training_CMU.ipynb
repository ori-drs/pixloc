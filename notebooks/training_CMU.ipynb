{
 "cells": [
  {
   "cell_type": "markdown",
   "metadata": {},
   "source": [
    "**This notebook shows how to run the inference in the training-time two-view settings on the validation or training set of CMU to visualize the training metrics and losses.**"
   ]
  },
  {
   "cell_type": "code",
   "execution_count": null,
   "metadata": {},
   "outputs": [],
   "source": [
    "%load_ext autoreload\n",
    "%autoreload 2\n",
    "\n",
    "import torch\n",
    "import numpy as np\n",
    "import matplotlib.pyplot as plt\n",
    "import matplotlib as mpl\n",
    "from omegaconf import OmegaConf\n",
    "\n",
    "from pixloc import run_CMU\n",
    "from pixloc.pixlib.datasets.cmu import CMU\n",
    "from pixloc.pixlib.datasets.drs import DRS\n",
    "from pixloc.pixlib.utils.tensor import batch_to_device, map_tensor\n",
    "from pixloc.pixlib.utils.tools import set_seed\n",
    "from pixloc.pixlib.utils.experiments import load_experiment\n",
    "from pixloc.visualization.viz_2d import (\n",
    "    plot_images, plot_keypoints, plot_matches, cm_RdGn,\n",
    "    features_to_RGB, add_text)\n",
    "\n",
    "torch.set_grad_enabled(False);\n",
    "mpl.rcParams['image.interpolation'] = 'bilinear'"
   ]
  },
  {
   "cell_type": "markdown",
   "metadata": {},
   "source": [
    "# Create a validation or training dataloader"
   ]
  },
  {
   "cell_type": "code",
   "execution_count": null,
   "metadata": {},
   "outputs": [],
   "source": [
    "conf = {\n",
    "    'min_overlap': 0.3,\n",
    "    'max_overlap': 1.0,\n",
    "    'max_num_points3D': 512,\n",
    "    'force_num_points3D': True,\n",
    "    'batch_size': 1,\n",
    "    'min_baseline': 1.,\n",
    "    'max_baseline': 7.,\n",
    "    \n",
    "    'resize': 720,\n",
    "    'resize_by': 'min',\n",
    "    'crop': 720,\n",
    "    'optimal_crop': False,\n",
    "    'seed': 1,\n",
    "    'num_workers': 0,\n",
    "}\n",
    "# dataset = CMU(conf)\n",
    "dataset = DRS({})\n",
    "loader = dataset.get_data_loader('val', shuffle=True)  # or 'train'"
   ]
  },
  {
   "cell_type": "markdown",
   "metadata": {},
   "source": [
    "# Load the training experiment"
   ]
  },
  {
   "cell_type": "code",
   "execution_count": null,
   "metadata": {},
   "outputs": [],
   "source": [
    "# Name of the example experiment. Replace with your own training experiment.\n",
    "exp = \"pixloc_author_reference\" #run_CMU.experiment\n",
    "device = 'cpu'\n",
    "conf = {\n",
    "    'normalize_dt': False, \n",
    "    'optimizer': {'num_iters': 20,},\n",
    "}\n",
    "refiner = load_experiment(exp, conf).to(device)\n",
    "print(OmegaConf.to_yaml(refiner.conf))"
   ]
  },
  {
   "cell_type": "markdown",
   "metadata": {},
   "source": [
    "# Simple logger to store the optimization steps"
   ]
  },
  {
   "cell_type": "code",
   "execution_count": null,
   "metadata": {},
   "outputs": [],
   "source": [
    "class Logger:\n",
    "    def __init__(self, optimizers=None):\n",
    "        self.costs = []\n",
    "        self.dt = []\n",
    "        self.p2D_trajectory = []\n",
    "        \n",
    "        if optimizers is not None:\n",
    "            for opt in optimizers:\n",
    "                opt.logging_fn = self.log\n",
    "\n",
    "    def log(self, **args):\n",
    "        if args['i'] == 0:\n",
    "            self.costs.append([])\n",
    "        self.costs[-1].append(args['cost'].mean(-1).cpu().numpy())\n",
    "        self.dt.append(args['T_delta'].magnitude()[1].cpu().numpy())\n",
    "        p2D, valid = data_['query']['camera'].world2image(args['T'] * data_['ref']['points3D'])\n",
    "        self.p2D_trajectory.append((p2D[0].cpu().numpy(), valid[0].cpu().numpy()))"
   ]
  },
  {
   "cell_type": "markdown",
   "metadata": {},
   "source": [
    "# Run on a few examples"
   ]
  },
  {
   "cell_type": "code",
   "execution_count": null,
   "metadata": {
    "scrolled": false
   },
   "outputs": [],
   "source": [
    "logger = Logger(refiner.optimizer)\n",
    "\n",
    "set_seed(70)\n",
    "for _, data in zip(range(1), loader):\n",
    "    data_ = batch_to_device(data, device)\n",
    "    pred_ = refiner(data_)\n",
    "    pred = map_tensor(pred_, lambda x: x[0].cpu())\n",
    "    data = map_tensor(data, lambda x: x[0].cpu())\n",
    "    cam_q = data['query']['camera']\n",
    "    p3D_r = data['ref']['points3D']\n",
    "        \n",
    "    p2D_r, valid_r = data['ref']['camera'].world2image(p3D_r)\n",
    "    p2D_q_gt, valid_q = cam_q.world2image(data['T_r2q_gt'] * p3D_r)\n",
    "    p2D_q_init, _ = cam_q.world2image(data['T_r2q_init'] * p3D_r)\n",
    "    p2D_q_opt, _ = cam_q.world2image(pred['T_r2q_opt'][-1] * p3D_r)\n",
    "    valid = valid_q & valid_r\n",
    "    \n",
    "    losses = refiner.loss(pred_, data_)\n",
    "    mets = refiner.metrics(pred_, data_)\n",
    "    errP = f\"ΔP {losses['reprojection_error/init'].item():.2f} -> {losses['reprojection_error'].item():.3f} px; \"\n",
    "    errR = f\"ΔR {mets['R_error/init'].item():.2f} -> {mets['R_error'].item():.3f} deg; \"\n",
    "    errt = f\"Δt {mets['t_error/init'].item():.2f} -> {mets['t_error'].item():.3f} m\"\n",
    "    print(errP, errR, errt)\n",
    "\n",
    "    imr, imq = data['ref']['image'].permute(1, 2, 0), data['query']['image'].permute(1, 2, 0)\n",
    "    n_points_plot = -1\n",
    "    plot_images([imr, imq],\n",
    "                dpi=100,  # set to 100-200 for higher res\n",
    "                titles=[(data['scene'].item(), valid_r.sum().item(), valid_q.sum().item()), errP+errt])\n",
    "    plot_keypoints([p2D_r[valid_r][:n_points_plot], p2D_q_gt[valid][:n_points_plot]], colors=[cm_RdGn(valid[valid_r][:n_points_plot]), 'lime'])\n",
    "    plot_keypoints([np.empty((0, 2)), p2D_q_init[valid][:n_points_plot]], colors='red')\n",
    "    plot_keypoints([np.empty((0, 2)), p2D_q_opt[valid][:n_points_plot]], colors='blue')\n",
    "    add_text(0, 'reference')\n",
    "    add_text(1, 'query')\n",
    "\n",
    "#     continue\n",
    "    for i, (F0, F1) in enumerate(zip(pred['ref']['feature_maps'], pred['query']['feature_maps'])):\n",
    "        C_r, C_q = pred['ref']['confidences'][i][0], pred['query']['confidences'][i][0]\n",
    "        plot_images([C_r, C_q], cmaps=mpl.cm.turbo, dpi=50)\n",
    "        add_text(0, f'Level {i}')\n",
    "        \n",
    "        axes = plt.gcf().axes\n",
    "        axes[0].imshow(imr, alpha=0.2, extent=axes[0].images[0]._extent)\n",
    "        axes[1].imshow(imq, alpha=0.2, extent=axes[1].images[0]._extent)\n",
    "        plot_images(features_to_RGB(F0.numpy(), F1.numpy(), skip=1), dpi=50)"
   ]
  },
  {
   "cell_type": "markdown",
   "metadata": {},
   "source": [
    "# Cost profile and point trajectories"
   ]
  },
  {
   "cell_type": "code",
   "execution_count": null,
   "metadata": {},
   "outputs": [],
   "source": [
    "costs = logger.costs\n",
    "fig, axes = plt.subplots(1, len(costs), figsize=(len(costs)*4.5, 4.5))\n",
    "for i, (ax, cost) in enumerate(zip(axes, costs)):\n",
    "    ax.plot(cost) if len(cost)>1 else ax.scatter(0., cost)\n",
    "    ax.set_title(f'({i}) Scale {i//3} Level {i%3}')\n",
    "    ax.grid()"
   ]
  },
  {
   "cell_type": "code",
   "execution_count": null,
   "metadata": {},
   "outputs": [],
   "source": [
    "idxs = np.random.RandomState(0).choice(np.where(valid)[0], 15, replace=False)\n",
    "colors = mpl.cm.jet(1-np.linspace(0, 1, len(logger.p2D_trajectory)))[:, :3]\n",
    "plot_images([imq])\n",
    "for (p2D, _), c in zip(logger.p2D_trajectory, colors):\n",
    "    plot_keypoints([p2D[idxs]], colors=c[None])"
   ]
  },
  {
   "cell_type": "code",
   "execution_count": null,
   "metadata": {},
   "outputs": [],
   "source": []
  }
 ],
 "metadata": {
  "kernelspec": {
   "display_name": "Python 3 (ipykernel)",
   "language": "python",
   "name": "python3"
  },
  "language_info": {
   "codemirror_mode": {
    "name": "ipython",
    "version": 3
   },
   "file_extension": ".py",
   "mimetype": "text/x-python",
   "name": "python",
   "nbconvert_exporter": "python",
   "pygments_lexer": "ipython3",
   "version": "3.9.5"
  }
 },
 "nbformat": 4,
 "nbformat_minor": 4
}
