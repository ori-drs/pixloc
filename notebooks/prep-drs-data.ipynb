{
 "cells": [
  {
   "cell_type": "code",
   "execution_count": 1,
   "id": "e15e4961",
   "metadata": {},
   "outputs": [],
   "source": [
    "import cv2\n",
    "import numpy as np\n",
    "from plyfile import PlyData, PlyElement\n",
    "import glob\n",
    "import matplotlib.pyplot as plt\n",
    "\n",
    "from pixloc.pixlib.datasets.drs import DRS\n",
    "from pixloc.utils.quaternions import qvec2rotmat\n",
    "\n",
    "np.set_printoptions(precision=3)"
   ]
  },
  {
   "cell_type": "code",
   "execution_count": 2,
   "id": "3786a824",
   "metadata": {},
   "outputs": [],
   "source": [
    "ply_files = glob.glob(\"/tmp/*.ply\")\n",
    "plys = []\n",
    "for ply_file in ply_files[:10]:\n",
    "    with open(ply_file, \"rb\") as f:\n",
    "        plys.append(PlyData.read(f))\n"
   ]
  },
  {
   "cell_type": "code",
   "execution_count": 3,
   "id": "25869df0",
   "metadata": {},
   "outputs": [],
   "source": [
    "sample_ply = plys[-1]"
   ]
  },
  {
   "cell_type": "code",
   "execution_count": 4,
   "id": "3cf733b1",
   "metadata": {},
   "outputs": [],
   "source": [
    "vertices = np.stack((sample_ply[\"vertex\"][\"x\"],sample_ply[\"vertex\"][\"y\"],sample_ply[\"vertex\"][\"z\"]))"
   ]
  },
  {
   "cell_type": "code",
   "execution_count": 5,
   "id": "8a412d18",
   "metadata": {},
   "outputs": [
    {
     "data": {
      "text/plain": [
       "(3, 131072)"
      ]
     },
     "execution_count": 5,
     "metadata": {},
     "output_type": "execute_result"
    }
   ],
   "source": [
    "vertices.shape"
   ]
  },
  {
   "cell_type": "code",
   "execution_count": 6,
   "id": "49e94ea8",
   "metadata": {},
   "outputs": [
    {
     "data": {
      "text/plain": [
       "(-8.125522017478943, 28.432615160942078, -3.104452705383301, 5.44844970703125)"
      ]
     },
     "execution_count": 6,
     "metadata": {},
     "output_type": "execute_result"
    },
    {
     "data": {
      "image/png": "[encoded data removed]",
      "text/plain": [
       "<Figure size 432x288 with 1 Axes>"
      ]
     },
     "metadata": {
      "needs_background": "light"
     },
     "output_type": "display_data"
    }
   ],
   "source": [
    "plt.scatter(vertices[1,:], vertices[2,:])\n",
    "plt.axis(\"equal\")"
   ]
  },
  {
   "cell_type": "code",
   "execution_count": 7,
   "id": "5564653b",
   "metadata": {},
   "outputs": [
    {
     "name": "stderr",
     "output_type": "stream",
     "text": [
      "[11/25/2021 18:49:59 pixloc.pixlib.datasets.base_dataset INFO] Creating dataset DRS\n"
     ]
    }
   ],
   "source": [
    "dataset = DRS({}).get_dataset({})"
   ]
  },
  {
   "cell_type": "code",
   "execution_count": 8,
   "id": "a8bd9867",
   "metadata": {},
   "outputs": [
    {
     "data": {
      "text/plain": [
       "1412"
      ]
     },
     "execution_count": 8,
     "metadata": {},
     "output_type": "execute_result"
    }
   ],
   "source": [
    "len(dataset)"
   ]
  },
  {
   "cell_type": "code",
   "execution_count": 9,
   "id": "fc00f869",
   "metadata": {},
   "outputs": [],
   "source": [
    "def list_rotate(l, n):\n",
    "    return l[n:] + l[:n]"
   ]
  },
  {
   "cell_type": "code",
   "execution_count": 10,
   "id": "e0bef04a",
   "metadata": {},
   "outputs": [
    {
     "data": {
      "text/plain": [
       "array([[-4.000e-06,  0.000e+00,  1.000e+00],\n",
       "       [-1.000e+00, -4.004e-03,  0.000e+00],\n",
       "       [ 4.000e-03, -1.000e+00, -4.000e-06]])"
      ]
     },
     "execution_count": 10,
     "metadata": {},
     "output_type": "execute_result"
    }
   ],
   "source": [
    "def drs_q_t_to_T(q, t):\n",
    "    q = list_rotate(list(q), 3)\n",
    "    q = np.array(q)\n",
    "    t = np.array(t)\n",
    "    rot_mat = qvec2rotmat(q)\n",
    "    return np.vstack((np.hstack((rot_mat, t[:,None])), np.array([0,0,0,1])[None,:]))\n",
    "\n",
    "qvec2rotmat(np.array([-0.499, 0.501, -0.499, 0.501]))"
   ]
  },
  {
   "cell_type": "code",
   "execution_count": 11,
   "id": "edc35064",
   "metadata": {},
   "outputs": [
    {
     "data": {
      "text/plain": [
       "array([[-4.000e-06,  0.000e+00,  1.000e+00,  1.000e+00],\n",
       "       [-1.000e+00,  3.996e-03,  0.000e+00,  0.000e+00],\n",
       "       [-4.000e-03, -1.000e+00, -4.000e-06,  0.000e+00],\n",
       "       [ 0.000e+00,  0.000e+00,  0.000e+00,  1.000e+00]])"
      ]
     },
     "execution_count": 11,
     "metadata": {},
     "output_type": "execute_result"
    }
   ],
   "source": [
    "drs_q_t_to_T(np.array([-0.499, 0.501, -0.499, 0.501]), np.array([1,0,0]))"
   ]
  },
  {
   "cell_type": "code",
   "execution_count": 12,
   "id": "7c35546e",
   "metadata": {},
   "outputs": [
    {
     "name": "stdout",
     "output_type": "stream",
     "text": [
      "[[1.    0.    0.    0.001]\n",
      " [0.    1.    0.    0.   ]\n",
      " [0.    0.    1.    0.091]\n",
      " [0.    0.    0.    1.   ]]\n"
     ]
    }
   ],
   "source": [
    "B_r_BL = [0.001, 0.000, 0.091]\n",
    "q_BL   = [0.0, 0.0, 0.0, 1.0]\n",
    "\n",
    "T_base_lidar = drs_q_t_to_T(q_BL, B_r_BL)\n",
    "print(T_base_lidar)"
   ]
  },
  {
   "cell_type": "code",
   "execution_count": 13,
   "id": "af261a63",
   "metadata": {},
   "outputs": [
    {
     "name": "stdout",
     "output_type": "stream",
     "text": [
      "[[-4.000e-06  0.000e+00  1.000e+00  8.200e-02]\n",
      " [-1.000e+00  3.996e-03  0.000e+00  5.300e-02]\n",
      " [-4.000e-03 -1.000e+00 -4.000e-06  7.700e-02]\n",
      " [ 0.000e+00  0.000e+00  0.000e+00  1.000e+00]]\n"
     ]
    }
   ],
   "source": [
    "q_BC = [-0.499, 0.501, -0.499, 0.501] # the base here is the bottom of NUC\n",
    "B_r_BC = [0.082, 0.053, 0.077]\n",
    "    \n",
    "T_base_camera_0 = drs_q_t_to_T(q_BC, B_r_BC)\n",
    "print(T_base_camera_0)"
   ]
  },
  {
   "cell_type": "code",
   "execution_count": 14,
   "id": "b096a915",
   "metadata": {},
   "outputs": [],
   "source": [
    "T_camera_0_lidar = np.linalg.inv(T_base_camera_0).dot(T_base_lidar)"
   ]
  },
  {
   "cell_type": "code",
   "execution_count": 15,
   "id": "9b5d9478",
   "metadata": {},
   "outputs": [
    {
     "data": {
      "text/plain": [
       "array([[-1.598e-08, -1.000e+00, -3.996e-03,  5.294e-02],\n",
       "       [-4.000e-06,  4.000e-03, -1.000e+00, -1.421e-02],\n",
       "       [ 1.000e+00, -4.000e-06, -1.598e-08, -8.100e-02],\n",
       "       [ 0.000e+00,  0.000e+00,  0.000e+00,  1.000e+00]])"
      ]
     },
     "execution_count": 15,
     "metadata": {},
     "output_type": "execute_result"
    }
   ],
   "source": [
    "T_camera_0_lidar"
   ]
  },
  {
   "cell_type": "code",
   "execution_count": 16,
   "id": "5072abfb",
   "metadata": {},
   "outputs": [],
   "source": [
    "datum = dataset.__getitem__(0)"
   ]
  },
  {
   "cell_type": "code",
   "execution_count": 17,
   "id": "3493882c",
   "metadata": {},
   "outputs": [
    {
     "data": {
      "text/plain": [
       "torch.Size([3, 540, 720])"
      ]
     },
     "execution_count": 17,
     "metadata": {},
     "output_type": "execute_result"
    }
   ],
   "source": [
    "datum['ref']['image'].shape"
   ]
  },
  {
   "cell_type": "code",
   "execution_count": 18,
   "id": "5a762888",
   "metadata": {},
   "outputs": [
    {
     "data": {
      "text/plain": [
       "torch.Size([131072, 3])"
      ]
     },
     "execution_count": 18,
     "metadata": {},
     "output_type": "execute_result"
    }
   ],
   "source": [
    "datum['ref']['points3D'].shape"
   ]
  },
  {
   "cell_type": "code",
   "execution_count": 19,
   "id": "1877e166",
   "metadata": {},
   "outputs": [
    {
     "data": {
      "text/plain": [
       "{'ref': {'image': tensor([[[-0.4255, -0.4255, -0.4255,  ..., -0.4216, -0.4216, -0.4216],\n",
       "           [-0.4255, -0.4255, -0.4255,  ..., -0.4176, -0.4137, -0.4137],\n",
       "           [-0.4255, -0.4255, -0.4255,  ..., -0.4176, -0.4176, -0.4137],\n",
       "           ...,\n",
       "           [-0.4294, -0.4255, -0.4216,  ..., -0.4098, -0.4137, -0.4137],\n",
       "           [-0.4216, -0.4176, -0.4137,  ..., -0.4098, -0.4137, -0.4137],\n",
       "           [-0.4216, -0.4216, -0.4216,  ..., -0.4098, -0.4137, -0.4137]],\n",
       "  \n",
       "          [[-0.4255, -0.4255, -0.4255,  ..., -0.4216, -0.4216, -0.4216],\n",
       "           [-0.4255, -0.4255, -0.4255,  ..., -0.4176, -0.4137, -0.4137],\n",
       "           [-0.4255, -0.4255, -0.4255,  ..., -0.4176, -0.4176, -0.4137],\n",
       "           ...,\n",
       "           [-0.4294, -0.4255, -0.4216,  ..., -0.4098, -0.4137, -0.4137],\n",
       "           [-0.4216, -0.4176, -0.4137,  ..., -0.4098, -0.4137, -0.4137],\n",
       "           [-0.4216, -0.4216, -0.4216,  ..., -0.4098, -0.4137, -0.4137]],\n",
       "  \n",
       "          [[-0.4255, -0.4255, -0.4255,  ..., -0.4216, -0.4216, -0.4216],\n",
       "           [-0.4255, -0.4255, -0.4255,  ..., -0.4176, -0.4137, -0.4137],\n",
       "           [-0.4255, -0.4255, -0.4255,  ..., -0.4176, -0.4176, -0.4137],\n",
       "           ...,\n",
       "           [-0.4294, -0.4255, -0.4216,  ..., -0.4098, -0.4137, -0.4137],\n",
       "           [-0.4216, -0.4176, -0.4137,  ..., -0.4098, -0.4137, -0.4137],\n",
       "           [-0.4216, -0.4216, -0.4216,  ..., -0.4098, -0.4137, -0.4137]]]),\n",
       "  'camera': Camera torch.Size([]) torch.float32 cpu,\n",
       "  'points3D': tensor([[-0.4429, -2.6623, -2.5453],\n",
       "          [-0.4585, -2.6644, -2.5443],\n",
       "          [-0.4741, -2.6672, -2.5439],\n",
       "          ...,\n",
       "          [ 0.0529, -0.0142, -0.0810],\n",
       "          [ 0.0529, -0.0142, -0.0810],\n",
       "          [ 0.0529, -0.0142, -0.0810]], dtype=torch.float64)},\n",
       " 'query': {'image': tensor([[[-0.4294, -0.4294, -0.4294,  ..., -0.4176, -0.4176, -0.4176],\n",
       "           [-0.4294, -0.4294, -0.4294,  ..., -0.4216, -0.4216, -0.4216],\n",
       "           [-0.4294, -0.4294, -0.4294,  ..., -0.4216, -0.4216, -0.4216],\n",
       "           ...,\n",
       "           [-0.4373, -0.4373, -0.4333,  ..., -0.4098, -0.4020, -0.3863],\n",
       "           [-0.4373, -0.4373, -0.4333,  ..., -0.4098, -0.4020, -0.3863],\n",
       "           [-0.4373, -0.4373, -0.4333,  ..., -0.4098, -0.4059, -0.3902]],\n",
       "  \n",
       "          [[-0.4294, -0.4294, -0.4294,  ..., -0.4176, -0.4176, -0.4176],\n",
       "           [-0.4294, -0.4294, -0.4294,  ..., -0.4216, -0.4216, -0.4216],\n",
       "           [-0.4294, -0.4294, -0.4294,  ..., -0.4216, -0.4216, -0.4216],\n",
       "           ...,\n",
       "           [-0.4373, -0.4373, -0.4333,  ..., -0.4098, -0.4020, -0.3863],\n",
       "           [-0.4373, -0.4373, -0.4333,  ..., -0.4098, -0.4020, -0.3863],\n",
       "           [-0.4373, -0.4373, -0.4333,  ..., -0.4098, -0.4059, -0.3902]],\n",
       "  \n",
       "          [[-0.4294, -0.4294, -0.4294,  ..., -0.4176, -0.4176, -0.4176],\n",
       "           [-0.4294, -0.4294, -0.4294,  ..., -0.4216, -0.4216, -0.4216],\n",
       "           [-0.4294, -0.4294, -0.4294,  ..., -0.4216, -0.4216, -0.4216],\n",
       "           ...,\n",
       "           [-0.4373, -0.4373, -0.4333,  ..., -0.4098, -0.4020, -0.3863],\n",
       "           [-0.4373, -0.4373, -0.4333,  ..., -0.4098, -0.4020, -0.3863],\n",
       "           [-0.4373, -0.4373, -0.4333,  ..., -0.4098, -0.4059, -0.3902]]]),\n",
       "  'camera': Camera torch.Size([]) torch.float32 cpu},\n",
       " 'T_r2q_init': Pose: torch.Size([]) torch.float32 cpu,\n",
       " 'T_r2q_gt': Pose: torch.Size([]) torch.float32 cpu}"
      ]
     },
     "execution_count": 19,
     "metadata": {},
     "output_type": "execute_result"
    }
   ],
   "source": [
    "datum"
   ]
  },
  {
   "cell_type": "code",
   "execution_count": 22,
   "id": "e4d543ae",
   "metadata": {},
   "outputs": [
    {
     "data": {
      "text/plain": [
       "tensor([[ 0.9999,  0.0088,  0.0110],\n",
       "        [-0.0089,  0.9999,  0.0068],\n",
       "        [-0.0109, -0.0069,  0.9999]])"
      ]
     },
     "execution_count": 22,
     "metadata": {},
     "output_type": "execute_result"
    }
   ],
   "source": []
  },
  {
   "cell_type": "code",
   "execution_count": null,
   "id": "7dbdc433",
   "metadata": {},
   "outputs": [],
   "source": []
  }
 ],
 "metadata": {
  "kernelspec": {
   "display_name": "Python 3 (ipykernel)",
   "language": "python",
   "name": "python3"
  },
  "language_info": {
   "codemirror_mode": {
    "name": "ipython",
    "version": 3
   },
   "file_extension": ".py",
   "mimetype": "text/x-python",
   "name": "python",
   "nbconvert_exporter": "python",
   "pygments_lexer": "ipython3",
   "version": "3.9.5"
  }
 },
 "nbformat": 4,
 "nbformat_minor": 5
}
