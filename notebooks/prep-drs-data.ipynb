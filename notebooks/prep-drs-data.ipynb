{
 "cells": [
  {
   "cell_type": "code",
   "execution_count": 19,
   "id": "e15e4961",
   "metadata": {},
   "outputs": [],
   "source": [
    "import cv2\n",
    "import numpy as np\n",
    "from plyfile import PlyData, PlyElement\n",
    "import glob\n",
    "import matplotlib.pyplot as plt\n",
    "\n",
    "from pixloc.pixlib.datasets.drs import DRS"
   ]
  },
  {
   "cell_type": "code",
   "execution_count": 2,
   "id": "3786a824",
   "metadata": {},
   "outputs": [],
   "source": [
    "ply_files = glob.glob(\"/tmp/*.ply\")\n",
    "plys = []\n",
    "for ply_file in ply_files[:10]:\n",
    "    with open(ply_file, \"rb\") as f:\n",
    "        plys.append(PlyData.read(f))\n"
   ]
  },
  {
   "cell_type": "code",
   "execution_count": 5,
   "id": "25869df0",
   "metadata": {},
   "outputs": [],
   "source": [
    "sample_ply = plys[-1]"
   ]
  },
  {
   "cell_type": "code",
   "execution_count": 13,
   "id": "3cf733b1",
   "metadata": {},
   "outputs": [],
   "source": [
    "vertices = np.stack((sample_ply[\"vertex\"][\"x\"],sample_ply[\"vertex\"][\"y\"],sample_ply[\"vertex\"][\"z\"]))"
   ]
  },
  {
   "cell_type": "code",
   "execution_count": 15,
   "id": "8a412d18",
   "metadata": {},
   "outputs": [
    {
     "data": {
      "text/plain": [
       "(3, 131072)"
      ]
     },
     "execution_count": 15,
     "metadata": {},
     "output_type": "execute_result"
    }
   ],
   "source": [
    "vertices.shape"
   ]
  },
  {
   "cell_type": "code",
   "execution_count": 18,
   "id": "49e94ea8",
   "metadata": {},
   "outputs": [
    {
     "data": {
      "text/plain": [
       "(-83.49020547866822, 35.01462144851685, -6.613951921463013, 16.949188470840454)"
      ]
     },
     "execution_count": 18,
     "metadata": {},
     "output_type": "execute_result"
    },
    {
     "data": {
      "image/png": "[encoded data removed]",
      "text/plain": [
       "<Figure size 432x288 with 1 Axes>"
      ]
     },
     "metadata": {
      "needs_background": "light"
     },
     "output_type": "display_data"
    }
   ],
   "source": [
    "plt.scatter(vertices[1,:], vertices[2,:])\n",
    "plt.axis(\"equal\")"
   ]
  },
  {
   "cell_type": "code",
   "execution_count": 21,
   "id": "5564653b",
   "metadata": {},
   "outputs": [
    {
     "name": "stderr",
     "output_type": "stream",
     "text": [
      "[11/25/2021 14:20:22 pixloc.pixlib.datasets.base_dataset INFO] Creating dataset DRS\n"
     ]
    }
   ],
   "source": [
    "dataset = DRS({}).get_dataset({})"
   ]
  },
  {
   "cell_type": "code",
   "execution_count": 23,
   "id": "a8bd9867",
   "metadata": {},
   "outputs": [
    {
     "data": {
      "text/plain": [
       "377"
      ]
     },
     "execution_count": 23,
     "metadata": {},
     "output_type": "execute_result"
    }
   ],
   "source": [
    "len(dataset)"
   ]
  },
  {
   "cell_type": "code",
   "execution_count": null,
   "id": "e0bef04a",
   "metadata": {},
   "outputs": [],
   "source": []
  }
 ],
 "metadata": {
  "kernelspec": {
   "display_name": "Python 3 (ipykernel)",
   "language": "python",
   "name": "python3"
  },
  "language_info": {
   "codemirror_mode": {
    "name": "ipython",
    "version": 3
   },
   "file_extension": ".py",
   "mimetype": "text/x-python",
   "name": "python",
   "nbconvert_exporter": "python",
   "pygments_lexer": "ipython3",
   "version": "3.8.10"
  }
 },
 "nbformat": 4,
 "nbformat_minor": 5
}
