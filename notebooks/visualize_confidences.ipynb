{
 "cells": [
  {
   "cell_type": "markdown",
   "metadata": {},
   "source": [
    "**This notebook generates videos of the uncertainties predicted by PixLoc on sequences of images.**"
   ]
  },
  {
   "cell_type": "code",
   "execution_count": 1,
   "metadata": {},
   "outputs": [],
   "source": [
    "import torch\n",
    "from torch.nn.functional import interpolate\n",
    "import numpy as np\n",
    "from tqdm import tqdm\n",
    "from collections import defaultdict\n",
    "from datetime import datetime\n",
    "import matplotlib.pyplot as plt\n",
    "\n",
    "from pixloc.utils.data import Paths\n",
    "from pixloc.localization.feature_extractor import FeatureExtractor\n",
    "from pixloc.pixlib.utils.experiments import load_experiment\n",
    "from pixloc.pixlib.datasets.view import read_image\n",
    "from pixloc.visualization.viz_2d import plot_images, add_text\n",
    "from pixloc.visualization.animation import VideoWriter, display_video\n",
    "from pixloc.settings import DATA_PATH, LOC_PATH"
   ]
  },
  {
   "cell_type": "markdown",
   "metadata": {},
   "source": [
    "# Datasets\n",
    "Run one of the following cells to parse the list of images in a sequence."
   ]
  },
  {
   "cell_type": "markdown",
   "metadata": {},
   "source": [
    "### 1) CMU"
   ]
  },
  {
   "cell_type": "code",
   "execution_count": 2,
   "metadata": {},
   "outputs": [
    {
     "name": "stdout",
     "output_type": "stream",
     "text": [
      "Sequences: ['2010-09-01', '2010-09-15', '2010-10-01', '2010-10-19', '2010-10-26', '2010-11-03', '2010-11-12', '2010-11-22', '2010-12-21', '2011-03-04', '2011-07-28']\n"
     ]
    }
   ],
   "source": [
    "from pixloc.run_CMU import default_paths, experiment\n",
    "\n",
    "paths = default_paths.add_prefixes(DATA_PATH/'CMU', LOC_PATH/'CMU')\n",
    "date2query = defaultdict(list)\n",
    "for slice_ in range(2, 26):\n",
    "    queries = sorted(paths.interpolate(slice=slice_).query_images.glob('*.jpg'))\n",
    "    for q in queries:\n",
    "        ts = int(q.name.split('_')[-1].rstrip('us.jpg'))\n",
    "        date = datetime.utcfromtimestamp(ts//1000000)\n",
    "        date2query[date.strftime('%Y-%m-%d')].append((ts, q))\n",
    "date2query = dict(date2query)\n",
    "\n",
    "print('Sequences:', sorted(date2query.keys()))\n",
    "seq = '2010-12-21'\n",
    "cam = 'c1'\n",
    "images = [p for _, p in date2query[seq] if cam in p.name]\n",
    "# plt.plot([ts for ts, p in date2query[seq] if cam in p.name]);"
   ]
  },
  {
   "cell_type": "markdown",
   "metadata": {},
   "source": [
    "### 2) Cambridge"
   ]
  },
  {
   "cell_type": "code",
   "execution_count": 150,
   "metadata": {},
   "outputs": [
    {
     "name": "stdout",
     "output_type": "stream",
     "text": [
      "Sequences: {'seq3': 87, 'seq2': 161, 'seq1': 301, 'seq9': 122, 'seq5': 68, 'seq6': 87, 'seq8': 126, 'seq4': 56, 'seq7': 76}\n"
     ]
    }
   ],
   "source": [
    "from pixloc.run_Cambridge import default_paths, experiment\n",
    "\n",
    "paths = default_paths.add_prefixes(DATA_PATH/'Cambridge', LOC_PATH/'Cambridge')\n",
    "paths = paths.interpolate(scene='OldHospital')\n",
    "all_sequences = {}\n",
    "for seq in paths.query_images.glob('seq*'):\n",
    "    all_sequences[f'{seq.name}'] = sorted(seq.iterdir())\n",
    "    \n",
    "print('Sequences:', {s: len(l) for s, l in all_sequences.items()})\n",
    "cam = 'seq1'\n",
    "images = all_sequences[cam]"
   ]
  },
  {
   "cell_type": "markdown",
   "metadata": {},
   "source": [
    "### 3) Aachen v1.1"
   ]
  },
  {
   "cell_type": "code",
   "execution_count": 152,
   "metadata": {},
   "outputs": [
    {
     "name": "stdout",
     "output_type": "stream",
     "text": [
      "Sequences: {'gopro': 1046, 'nexus_1': 171, 'nexus_3': 17, 'nexus_7': 242, 'nexus_6': 84, 'nexus_2': 43, 'nexus_5': 203, 'nexus_8': 71, 'nexus_4': 494}\n"
     ]
    }
   ],
   "source": [
    "from pixloc.run_Aachen import default_paths, experiment\n",
    "\n",
    "paths = default_paths.add_prefixes(DATA_PATH/'Aachen_v1.1', LOC_PATH/'Aachen_v1.1')\n",
    "root = paths.reference_images / 'sequences'\n",
    "all_sequences = {}\n",
    "all_sequences['gopro'] = sorted((root/'gopro3_undistorted').glob('*.png'))\n",
    "for seq in (root/'nexus4_sequences').iterdir():\n",
    "    all_sequences[f'nexus_{seq.name.split(\"_\")[1]}'] = sorted(seq.iterdir())\n",
    "\n",
    "print('Sequences:', {s: len(l) for s, l in all_sequences.items()})\n",
    "cam = 'gopro'\n",
    "images = all_sequences[cam]"
   ]
  },
  {
   "cell_type": "markdown",
   "metadata": {},
   "source": [
    "### 4) RobotCar"
   ]
  },
  {
   "cell_type": "code",
   "execution_count": 118,
   "metadata": {},
   "outputs": [],
   "source": [
    "from pixloc.run_RobotCar import default_paths, experiment\n",
    "\n",
    "paths = default_paths.add_prefixes(DATA_PATH/'RobotCar', LOC_PATH/'RobotCar')\n",
    "condition = 'snow'\n",
    "cam = 'right'\n",
    "images = sorted((paths.query_images/condition/cam).glob('*.jpg'))"
   ]
  },
  {
   "cell_type": "markdown",
   "metadata": {},
   "source": [
    "# Inference\n",
    "\n",
    "Choose one of the two models pretrained on CMU or MegaDepth:"
   ]
  },
  {
   "cell_type": "code",
   "execution_count": 3,
   "metadata": {},
   "outputs": [
    {
     "name": "stderr",
     "output_type": "stream",
     "text": [
      "[11/23/2021 08:36:51 pixloc.pixlib.utils.experiments INFO] Loading checkpoint checkpoint_best.tar\n"
     ]
    }
   ],
   "source": [
    "device = torch.device('cuda')\n",
    "pipeline = load_experiment(experiment).to(device).eval()\n",
    "net = FeatureExtractor(pipeline.extractor, device, {'resize': 1024})"
   ]
  },
  {
   "cell_type": "markdown",
   "metadata": {},
   "source": [
    "- Set `preview=True` to visualize the predictions for a few images in the sequence.\n",
    "- Set `preview=False` to dump a video of the predictions."
   ]
  },
  {
   "cell_type": "code",
   "execution_count": 7,
   "metadata": {},
   "outputs": [
    {
     "name": "stderr",
     "output_type": "stream",
     "text": [
      "100%|██████████████████████████████████████████████████████████████| 100/100 [00:33<00:00,  3.02it/s]\n",
      "[11/23/2021 08:38:53 pixloc.visualization.animation INFO] Running ffmpeg.\n"
     ]
    },
    {
     "ename": "FileNotFoundError",
     "evalue": "[Errno 2] No such file or directory: 'ffmpeg'",
     "output_type": "error",
     "traceback": [
      "\u001b[0;31m---------------------------------------------------------------------------\u001b[0m",
      "\u001b[0;31mFileNotFoundError\u001b[0m                         Traceback (most recent call last)",
      "\u001b[0;32m/tmp/ipykernel_54691/1984212598.py\u001b[0m in \u001b[0;36m<module>\u001b[0;34m\u001b[0m\n\u001b[1;32m     35\u001b[0m \u001b[0;34m\u001b[0m\u001b[0m\n\u001b[1;32m     36\u001b[0m \u001b[0;32mif\u001b[0m \u001b[0;32mnot\u001b[0m \u001b[0mpreview\u001b[0m\u001b[0;34m:\u001b[0m\u001b[0;34m\u001b[0m\u001b[0;34m\u001b[0m\u001b[0m\n\u001b[0;32m---> 37\u001b[0;31m     \u001b[0mwriter\u001b[0m\u001b[0;34m.\u001b[0m\u001b[0mto_video\u001b[0m\u001b[0;34m(\u001b[0m\u001b[0mvideo\u001b[0m\u001b[0;34m,\u001b[0m \u001b[0mfps\u001b[0m\u001b[0;34m=\u001b[0m\u001b[0;36m3\u001b[0m\u001b[0;34m,\u001b[0m \u001b[0mcrf\u001b[0m\u001b[0;34m=\u001b[0m\u001b[0;36m23\u001b[0m\u001b[0;34m)\u001b[0m\u001b[0;34m\u001b[0m\u001b[0;34m\u001b[0m\u001b[0m\n\u001b[0m",
      "\u001b[0;32m~/github/pixloc/pixloc/visualization/animation.py\u001b[0m in \u001b[0;36mto_video\u001b[0;34m(self, out_path, duration, fps, crf, verbose)\u001b[0m\n\u001b[1;32m     75\u001b[0m         \u001b[0mlogger\u001b[0m\u001b[0;34m.\u001b[0m\u001b[0minfo\u001b[0m\u001b[0;34m(\u001b[0m\u001b[0;34m'Running ffmpeg.'\u001b[0m\u001b[0;34m)\u001b[0m\u001b[0;34m\u001b[0m\u001b[0;34m\u001b[0m\u001b[0m\n\u001b[1;32m     76\u001b[0m         (\n\u001b[0;32m---> 77\u001b[0;31m             \u001b[0mffmpeg\u001b[0m\u001b[0;34m\u001b[0m\u001b[0;34m\u001b[0m\u001b[0m\n\u001b[0m\u001b[1;32m     78\u001b[0m             \u001b[0;34m.\u001b[0m\u001b[0minput\u001b[0m\u001b[0;34m(\u001b[0m\u001b[0mframes\u001b[0m\u001b[0;34m,\u001b[0m \u001b[0mpattern_type\u001b[0m\u001b[0;34m=\u001b[0m\u001b[0;34m'glob'\u001b[0m\u001b[0;34m,\u001b[0m \u001b[0mframerate\u001b[0m\u001b[0;34m=\u001b[0m\u001b[0mfps\u001b[0m\u001b[0;34m)\u001b[0m\u001b[0;34m\u001b[0m\u001b[0;34m\u001b[0m\u001b[0m\n\u001b[1;32m     79\u001b[0m             \u001b[0;34m.\u001b[0m\u001b[0mfilter\u001b[0m\u001b[0;34m(\u001b[0m\u001b[0;34m'crop'\u001b[0m\u001b[0;34m,\u001b[0m \u001b[0;34m'trunc(iw/2)*2'\u001b[0m\u001b[0;34m,\u001b[0m \u001b[0;34m'trunc(ih/2)*2'\u001b[0m\u001b[0;34m)\u001b[0m\u001b[0;34m\u001b[0m\u001b[0;34m\u001b[0m\u001b[0m\n",
      "\u001b[0;32m~/.local/lib/python3.8/site-packages/ffmpeg/_run.py\u001b[0m in \u001b[0;36mrun\u001b[0;34m(stream_spec, cmd, capture_stdout, capture_stderr, input, quiet, overwrite_output)\u001b[0m\n\u001b[1;32m    311\u001b[0m     \u001b[0mReturns\u001b[0m\u001b[0;34m:\u001b[0m \u001b[0;34m(\u001b[0m\u001b[0mout\u001b[0m\u001b[0;34m,\u001b[0m \u001b[0merr\u001b[0m\u001b[0;34m)\u001b[0m \u001b[0mtuple\u001b[0m \u001b[0mcontaining\u001b[0m \u001b[0mcaptured\u001b[0m \u001b[0mstdout\u001b[0m \u001b[0;32mand\u001b[0m \u001b[0mstderr\u001b[0m \u001b[0mdata\u001b[0m\u001b[0;34m.\u001b[0m\u001b[0;34m\u001b[0m\u001b[0;34m\u001b[0m\u001b[0m\n\u001b[1;32m    312\u001b[0m     \"\"\"\n\u001b[0;32m--> 313\u001b[0;31m     process = run_async(\n\u001b[0m\u001b[1;32m    314\u001b[0m         \u001b[0mstream_spec\u001b[0m\u001b[0;34m,\u001b[0m\u001b[0;34m\u001b[0m\u001b[0;34m\u001b[0m\u001b[0m\n\u001b[1;32m    315\u001b[0m         \u001b[0mcmd\u001b[0m\u001b[0;34m,\u001b[0m\u001b[0;34m\u001b[0m\u001b[0;34m\u001b[0m\u001b[0m\n",
      "\u001b[0;32m~/.local/lib/python3.8/site-packages/ffmpeg/_run.py\u001b[0m in \u001b[0;36mrun_async\u001b[0;34m(stream_spec, cmd, pipe_stdin, pipe_stdout, pipe_stderr, quiet, overwrite_output)\u001b[0m\n\u001b[1;32m    282\u001b[0m     \u001b[0mstdout_stream\u001b[0m \u001b[0;34m=\u001b[0m \u001b[0msubprocess\u001b[0m\u001b[0;34m.\u001b[0m\u001b[0mPIPE\u001b[0m \u001b[0;32mif\u001b[0m \u001b[0mpipe_stdout\u001b[0m \u001b[0;32mor\u001b[0m \u001b[0mquiet\u001b[0m \u001b[0;32melse\u001b[0m \u001b[0;32mNone\u001b[0m\u001b[0;34m\u001b[0m\u001b[0;34m\u001b[0m\u001b[0m\n\u001b[1;32m    283\u001b[0m     \u001b[0mstderr_stream\u001b[0m \u001b[0;34m=\u001b[0m \u001b[0msubprocess\u001b[0m\u001b[0;34m.\u001b[0m\u001b[0mPIPE\u001b[0m \u001b[0;32mif\u001b[0m \u001b[0mpipe_stderr\u001b[0m \u001b[0;32mor\u001b[0m \u001b[0mquiet\u001b[0m \u001b[0;32melse\u001b[0m \u001b[0;32mNone\u001b[0m\u001b[0;34m\u001b[0m\u001b[0;34m\u001b[0m\u001b[0m\n\u001b[0;32m--> 284\u001b[0;31m     return subprocess.Popen(\n\u001b[0m\u001b[1;32m    285\u001b[0m         \u001b[0margs\u001b[0m\u001b[0;34m,\u001b[0m \u001b[0mstdin\u001b[0m\u001b[0;34m=\u001b[0m\u001b[0mstdin_stream\u001b[0m\u001b[0;34m,\u001b[0m \u001b[0mstdout\u001b[0m\u001b[0;34m=\u001b[0m\u001b[0mstdout_stream\u001b[0m\u001b[0;34m,\u001b[0m \u001b[0mstderr\u001b[0m\u001b[0;34m=\u001b[0m\u001b[0mstderr_stream\u001b[0m\u001b[0;34m\u001b[0m\u001b[0;34m\u001b[0m\u001b[0m\n\u001b[1;32m    286\u001b[0m     )\n",
      "\u001b[0;32m/usr/lib/python3.8/subprocess.py\u001b[0m in \u001b[0;36m__init__\u001b[0;34m(self, args, bufsize, executable, stdin, stdout, stderr, preexec_fn, close_fds, shell, cwd, env, universal_newlines, startupinfo, creationflags, restore_signals, start_new_session, pass_fds, encoding, errors, text)\u001b[0m\n\u001b[1;32m    856\u001b[0m                             encoding=encoding, errors=errors)\n\u001b[1;32m    857\u001b[0m \u001b[0;34m\u001b[0m\u001b[0m\n\u001b[0;32m--> 858\u001b[0;31m             self._execute_child(args, executable, preexec_fn, close_fds,\n\u001b[0m\u001b[1;32m    859\u001b[0m                                 \u001b[0mpass_fds\u001b[0m\u001b[0;34m,\u001b[0m \u001b[0mcwd\u001b[0m\u001b[0;34m,\u001b[0m \u001b[0menv\u001b[0m\u001b[0;34m,\u001b[0m\u001b[0;34m\u001b[0m\u001b[0;34m\u001b[0m\u001b[0m\n\u001b[1;32m    860\u001b[0m                                 \u001b[0mstartupinfo\u001b[0m\u001b[0;34m,\u001b[0m \u001b[0mcreationflags\u001b[0m\u001b[0;34m,\u001b[0m \u001b[0mshell\u001b[0m\u001b[0;34m,\u001b[0m\u001b[0;34m\u001b[0m\u001b[0;34m\u001b[0m\u001b[0m\n",
      "\u001b[0;32m/usr/lib/python3.8/subprocess.py\u001b[0m in \u001b[0;36m_execute_child\u001b[0;34m(self, args, executable, preexec_fn, close_fds, pass_fds, cwd, env, startupinfo, creationflags, shell, p2cread, p2cwrite, c2pread, c2pwrite, errread, errwrite, restore_signals, start_new_session)\u001b[0m\n\u001b[1;32m   1702\u001b[0m                     \u001b[0;32mif\u001b[0m \u001b[0merrno_num\u001b[0m \u001b[0;34m!=\u001b[0m \u001b[0;36m0\u001b[0m\u001b[0;34m:\u001b[0m\u001b[0;34m\u001b[0m\u001b[0;34m\u001b[0m\u001b[0m\n\u001b[1;32m   1703\u001b[0m                         \u001b[0merr_msg\u001b[0m \u001b[0;34m=\u001b[0m \u001b[0mos\u001b[0m\u001b[0;34m.\u001b[0m\u001b[0mstrerror\u001b[0m\u001b[0;34m(\u001b[0m\u001b[0merrno_num\u001b[0m\u001b[0;34m)\u001b[0m\u001b[0;34m\u001b[0m\u001b[0;34m\u001b[0m\u001b[0m\n\u001b[0;32m-> 1704\u001b[0;31m                     \u001b[0;32mraise\u001b[0m \u001b[0mchild_exception_type\u001b[0m\u001b[0;34m(\u001b[0m\u001b[0merrno_num\u001b[0m\u001b[0;34m,\u001b[0m \u001b[0merr_msg\u001b[0m\u001b[0;34m,\u001b[0m \u001b[0merr_filename\u001b[0m\u001b[0;34m)\u001b[0m\u001b[0;34m\u001b[0m\u001b[0;34m\u001b[0m\u001b[0m\n\u001b[0m\u001b[1;32m   1705\u001b[0m                 \u001b[0;32mraise\u001b[0m \u001b[0mchild_exception_type\u001b[0m\u001b[0;34m(\u001b[0m\u001b[0merr_msg\u001b[0m\u001b[0;34m)\u001b[0m\u001b[0;34m\u001b[0m\u001b[0;34m\u001b[0m\u001b[0m\n\u001b[1;32m   1706\u001b[0m \u001b[0;34m\u001b[0m\u001b[0m\n",
      "\u001b[0;31mFileNotFoundError\u001b[0m: [Errno 2] No such file or directory: 'ffmpeg'"
     ]
    }
   ],
   "source": [
    "preview = False\n",
    "\n",
    "video = 'uncertainties.mp4'\n",
    "args = dict(cmaps='turbo', dpi=50)\n",
    "if preview:\n",
    "    num = slice(10)\n",
    "    skip = slice(None, None, 100)\n",
    "else:\n",
    "    num = slice(100)\n",
    "    skip = slice(None, None, 10)\n",
    "    writer = VideoWriter('./tmp')\n",
    "\n",
    "for i, path in enumerate(tqdm(images[skip][num])):\n",
    "    image = read_image(path)\n",
    "    _, _, confs = net(image)\n",
    "    shape = confs[0][0].shape\n",
    "    confs = [interpolate(c[None], size=shape, mode='bilinear', align_corners=False)[0] for c in confs]\n",
    "    confs = [c.cpu().numpy()[0] for c in confs]\n",
    "    fine, mid, coarse = confs\n",
    "    \n",
    "    # fuse the confidence maps (for visualization only)\n",
    "    fused = (fine*mid*coarse)**(1/3)\n",
    "\n",
    "    if preview:\n",
    "        plot_images([image, fine, mid, coarse, fused], **args)\n",
    "    else:\n",
    "        plot_images([image, fused], **args)\n",
    "    \n",
    "    # add image as background\n",
    "    [a.images[0].set(alpha=0.8) for a in plt.gcf().axes[1:]];\n",
    "    [a.imshow(image, extent=a.images[0]._extent, zorder=-1) for a in plt.gcf().axes[1:]];\n",
    "    \n",
    "    if not preview:\n",
    "        writer.add_frame()\n",
    "\n",
    "if not preview:\n",
    "    writer.to_video(video, fps=3, crf=23)"
   ]
  },
  {
   "cell_type": "code",
   "execution_count": null,
   "metadata": {},
   "outputs": [],
   "source": [
    "display_video(video)"
   ]
  },
  {
   "cell_type": "code",
   "execution_count": null,
   "metadata": {},
   "outputs": [],
   "source": []
  }
 ],
 "metadata": {
  "kernelspec": {
   "display_name": "Python 3 (ipykernel)",
   "language": "python",
   "name": "python3"
  },
  "language_info": {
   "codemirror_mode": {
    "name": "ipython",
    "version": 3
   },
   "file_extension": ".py",
   "mimetype": "text/x-python",
   "name": "python",
   "nbconvert_exporter": "python",
   "pygments_lexer": "ipython3",
   "version": "3.8.10"
  }
 },
 "nbformat": 4,
 "nbformat_minor": 4
}
